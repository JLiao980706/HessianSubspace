{
 "cells": [
  {
   "cell_type": "code",
   "execution_count": 1,
   "metadata": {},
   "outputs": [],
   "source": [
    "import torch\n",
    "\n",
    "class TinyModel(torch.nn.Module):\n",
    "\n",
    "    def __init__(self, input_dim, hidden_dim, output_dim):\n",
    "        super(TinyModel, self).__init__()\n",
    "\n",
    "        self.linear1 = torch.nn.Linear(input_dim, hidden_dim)\n",
    "        self.activation = torch.nn.ReLU()\n",
    "        self.linear2 = torch.nn.Linear(hidden_dim, output_dim)\n",
    "        self.softmax = torch.nn.Softmax(dim=0)\n",
    "\n",
    "    def forward(self, x):\n",
    "        x = self.linear1(x)\n",
    "        x = self.activation(x)\n",
    "        x = self.linear2(x)\n",
    "        x = self.softmax(x)\n",
    "        return x\n"
   ]
  },
  {
   "cell_type": "code",
   "execution_count": 2,
   "metadata": {},
   "outputs": [],
   "source": [
    "import torchvision.datasets as datasets\n",
    "import numpy as np\n",
    "from torch.utils.data import Dataset, DataLoader\n",
    "\n",
    "class MNISTFlattenData(Dataset):\n",
    "    \n",
    "    def __init__(self, path):\n",
    "        mnist_trainset = datasets.MNIST(root=path, train=True, download=True, transform=None)\n",
    "        self.num_samples = len(mnist_trainset)\n",
    "        self.X = np.stack([np.array(mnist_trainset[i][0]).flatten() for i in range(self.num_samples)], axis=0) / 255.\n",
    "        self.X = self.X.astype(np.float32)\n",
    "        self.Y = [mnist_trainset[i][1] for i in range(self.num_samples)]\n",
    "        \n",
    "    def __getitem__(self, index):\n",
    "        return self.X[index], self.Y[index]\n",
    "    \n",
    "    def __len__(self):\n",
    "        return self.num_samples\n",
    "    \n",
    "dataset = MNISTFlattenData('./data')"
   ]
  },
  {
   "cell_type": "code",
   "execution_count": 8,
   "metadata": {},
   "outputs": [],
   "source": [
    "def accuracy(model, dataset):\n",
    "    pred_ind = np.argmax(model(torch.from_numpy(dataset.X)).detach().cpu().numpy(), axis=1)\n",
    "    return (pred_ind == dataset.Y).mean()\n",
    "\n",
    "\n",
    "def train_one_epoch(model, dataloader, optimizer, loss_fn, epoch_index):\n",
    "    \n",
    "    running_loss = 0.\n",
    "    num_samples = 0\n",
    "    for i, data in enumerate(dataloader):\n",
    "        # Preparing the step\n",
    "        inputs, labels = data\n",
    "        optimizer.zero_grad()\n",
    "        # Performing forward and backward pass\n",
    "        loss = loss_fn(model(inputs), labels)\n",
    "        loss.backward()\n",
    "        optimizer.step()\n",
    "        # Gather data\n",
    "        running_loss += loss.item() * inputs.shape[0]\n",
    "        num_samples += inputs.shape[0]\n",
    "        \n",
    "    last_loss = running_loss / num_samples # loss per batch\n",
    "    return last_loss\n",
    "\n",
    "\n",
    "def train(model, dataset, batch_size, learning_rate, num_epochs):\n",
    "    dataloader = DataLoader(dataset=dataset, batch_size=batch_size, shuffle=True)\n",
    "    optimizer = torch.optim.SGD(model.parameters(), lr=learning_rate, momentum=0.9)\n",
    "    loss_fn = torch.nn.CrossEntropyLoss()\n",
    "    cur_accuracy = accuracy(model, dataset)\n",
    "    print(f'Iteration #{0}: Accuracy={cur_accuracy:.3f}.')\n",
    "    for epoch_index in range(num_epochs):\n",
    "        cur_epoch_loss = train_one_epoch(model, iter(dataloader), optimizer, loss_fn, epoch_index)\n",
    "        cur_accuracy = accuracy(model, dataset)\n",
    "        print(f'Iteration #{epoch_index + 1}: Loss={cur_epoch_loss:.5f}, Accuracy={cur_accuracy:.3f}.')"
   ]
  },
  {
   "cell_type": "code",
   "execution_count": 12,
   "metadata": {},
   "outputs": [
    {
     "name": "stdout",
     "output_type": "stream",
     "text": [
      "Iteration #0: Accuracy=0.107.\n",
      "Iteration #1: Loss=2.01160, Accuracy=0.843.\n",
      "Iteration #2: Loss=1.95965, Accuracy=0.859.\n",
      "Iteration #3: Loss=1.95337, Accuracy=0.872.\n",
      "Iteration #4: Loss=1.95098, Accuracy=0.888.\n",
      "Iteration #5: Loss=1.94807, Accuracy=0.901.\n",
      "Iteration #6: Loss=1.94931, Accuracy=0.912.\n",
      "Iteration #7: Loss=1.94627, Accuracy=0.919.\n",
      "Iteration #8: Loss=1.94378, Accuracy=0.930.\n",
      "Iteration #9: Loss=1.94427, Accuracy=0.934.\n",
      "Iteration #10: Loss=1.94199, Accuracy=0.939.\n",
      "Iteration #11: Loss=1.94057, Accuracy=0.945.\n",
      "Iteration #12: Loss=1.94162, Accuracy=0.946.\n",
      "Iteration #13: Loss=1.94259, Accuracy=0.950.\n",
      "Iteration #14: Loss=1.93948, Accuracy=0.951.\n",
      "Iteration #15: Loss=1.94082, Accuracy=0.954.\n",
      "Iteration #16: Loss=1.93969, Accuracy=0.957.\n",
      "Iteration #17: Loss=1.94010, Accuracy=0.957.\n",
      "Iteration #18: Loss=1.93938, Accuracy=0.959.\n",
      "Iteration #19: Loss=1.93866, Accuracy=0.960.\n",
      "Iteration #20: Loss=1.93880, Accuracy=0.961.\n"
     ]
    }
   ],
   "source": [
    "tinymodel = TinyModel(784, 64, 10)\n",
    "train(tinymodel, dataset, 20, 0.02, 20)"
   ]
  },
  {
   "cell_type": "code",
   "execution_count": null,
   "metadata": {},
   "outputs": [],
   "source": []
  }
 ],
 "metadata": {
  "kernelspec": {
   "display_name": "Python 3",
   "language": "python",
   "name": "python3"
  },
  "language_info": {
   "codemirror_mode": {
    "name": "ipython",
    "version": 3
   },
   "file_extension": ".py",
   "mimetype": "text/x-python",
   "name": "python",
   "nbconvert_exporter": "python",
   "pygments_lexer": "ipython3",
   "version": "3.8.1"
  }
 },
 "nbformat": 4,
 "nbformat_minor": 4
}
